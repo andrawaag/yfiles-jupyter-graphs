{
 "cells": [
  {
   "cell_type": "markdown",
   "id": "3b0b848c-5ab8-4d30-b3e6-b9256224116f",
   "metadata": {},
   "source": [
    "# Configure Overview"
   ]
  },
  {
   "cell_type": "code",
   "execution_count": null,
   "id": "516a6ed2-32fd-44ea-a18f-14a3ee808043",
   "metadata": {},
   "outputs": [],
   "source": [
    "%%capture\n",
    "!pip install networkx",
    "!pip install yfiles_jupyter_graphs"
   ]
  },
  {
   "cell_type": "code",
   "execution_count": null,
   "id": "3c1c550b-6422-4cde-8930-93a843324e3e",
   "metadata": {},
   "outputs": [],
   "source": [
    "from ipywidgets import Layout"
   ]
  },
  {
   "cell_type": "code",
   "execution_count": null,
   "id": "557b11f0",
   "metadata": {},
   "outputs": [],
   "source": [
    "from networkx import connected_caveman_graph"
   ]
  },
  {
   "cell_type": "code",
   "execution_count": null,
   "id": "6712a849",
   "metadata": {},
   "outputs": [],
   "source": [
    "from yfiles_jupyter_graphs import GraphWidget"
   ]
  },
  {
   "cell_type": "code",
   "execution_count": null,
   "id": "5b46915c",
   "metadata": {},
   "outputs": [],
   "source": [
    "def get_widget(widget_layout=None):\n",
    "    w = GraphWidget(widget_layout=widget_layout)\n",
    "    g = connected_caveman_graph(3, 4)\n",
    "    w.import_graph(g)\n",
    "    return w"
   ]
  },
  {
   "cell_type": "code",
   "execution_count": null,
   "id": "e295ba26",
   "metadata": {},
   "outputs": [],
   "source": [
    "a = get_widget()"
   ]
  },
  {
   "cell_type": "code",
   "execution_count": null,
   "id": "507a7a75",
   "metadata": {},
   "outputs": [],
   "source": [
    "a"
   ]
  },
  {
   "cell_type": "code",
   "execution_count": null,
   "id": "a1e444ef",
   "metadata": {},
   "outputs": [],
   "source": [
    "b = get_widget()\n",
    "b.set_overview(enabled=False)"
   ]
  },
  {
   "cell_type": "code",
   "execution_count": null,
   "id": "1ef78198",
   "metadata": {},
   "outputs": [],
   "source": [
    "b"
   ]
  },
  {
   "cell_type": "code",
   "execution_count": null,
   "id": "c136d339",
   "metadata": {},
   "outputs": [],
   "source": [
    "c = get_widget()\n",
    "c.set_overview(enabled=True)"
   ]
  },
  {
   "cell_type": "code",
   "execution_count": null,
   "id": "0ba9ac3f",
   "metadata": {},
   "outputs": [],
   "source": [
    "c"
   ]
  },
  {
   "cell_type": "code",
   "execution_count": null,
   "id": "ec113db3",
   "metadata": {},
   "outputs": [],
   "source": [
    "d = get_widget(widget_layout=Layout(width='50%'))"
   ]
  },
  {
   "cell_type": "code",
   "execution_count": null,
   "id": "6c6b2cf9",
   "metadata": {},
   "outputs": [],
   "source": [
    "d"
   ]
  },
  {
   "cell_type": "code",
   "execution_count": null,
   "id": "3b13489f",
   "metadata": {},
   "outputs": [],
   "source": [
    "e = get_widget(widget_layout=Layout(width='50%'))\n",
    "e.set_overview(enabled=False)"
   ]
  },
  {
   "cell_type": "code",
   "execution_count": null,
   "id": "fb577010",
   "metadata": {},
   "outputs": [],
   "source": [
    "e"
   ]
  },
  {
   "cell_type": "code",
   "execution_count": null,
   "id": "52b70751",
   "metadata": {},
   "outputs": [],
   "source": [
    "f = get_widget(widget_layout=Layout(width='50%'))\n",
    "f.set_overview(enabled=True)"
   ]
  },
  {
   "cell_type": "code",
   "execution_count": null,
   "id": "350a6f11",
   "metadata": {},
   "outputs": [],
   "source": [
    "f"
   ]
  }
 ],
 "metadata": {
  "kernelspec": {
   "display_name": "Python 3",
   "language": "python",
   "name": "python3"
  },
  "language_info": {
   "codemirror_mode": {
    "name": "ipython",
    "version": 3
   },
   "file_extension": ".py",
   "mimetype": "text/x-python",
   "name": "python",
   "nbconvert_exporter": "python",
   "pygments_lexer": "ipython3",
   "version": "3.6.15"
  },
  "widgets": {
   "application/vnd.jupyter.widget-state+json": {
    "state": {},
    "version_major": 2,
    "version_minor": 0
   }
  }
 },
 "nbformat": 4,
 "nbformat_minor": 5
}
